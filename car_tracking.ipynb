{
 "cells": [
  {
   "cell_type": "markdown",
   "metadata": {},
   "source": [
    "# Car Tracking and Counting"
   ]
  },
  {
   "cell_type": "markdown",
   "metadata": {},
   "source": [
    "### Introduction\n",
    "\n",
    "This project objective is to employ an object detection and tracking model to track the cars and count the number of vehicles passing in each direction of a road. \n",
    "\n",
    "### Model and Approach\n",
    "The model used is YOLOv8, which is a state-of-the-art, real-time object detection model. It is pre-retrained on the COCO dataset, which contains 80 classes of objects, including cars. The model is used to detect cars in the video frames, and the tracking is done using the bytetrack algorithm. The number of cars passing in each direction is counted and displayed on the screen. At the end, the results are saved in a CSV file and visualized in a graph."
   ]
  },
  {
   "cell_type": "markdown",
   "metadata": {},
   "source": [
    "## How to run the code"
   ]
  },
  {
   "cell_type": "markdown",
   "metadata": {},
   "source": [
    "First, install the required packages."
   ]
  },
  {
   "cell_type": "code",
   "execution_count": null,
   "metadata": {},
   "outputs": [],
   "source": [
    "# !pip install -U ultralytics opencv-python"
   ]
  },
  {
   "cell_type": "markdown",
   "metadata": {},
   "source": [
    "Then import the required libraries."
   ]
  },
  {
   "cell_type": "code",
   "execution_count": 1,
   "metadata": {},
   "outputs": [],
   "source": [
    "import cv2\n",
    "from ultralytics import YOLO\n",
    "from datetime import datetime, timedelta\n",
    "from typing import List, Dict"
   ]
  },
  {
   "cell_type": "markdown",
   "metadata": {},
   "source": [
    "Define the lines to count the cars in each direction."
   ]
  },
  {
   "cell_type": "code",
   "execution_count": 17,
   "metadata": {},
   "outputs": [],
   "source": [
    "# Define the horizontal and perpendicular line positions\n",
    "line_position_horizontal = 240\n",
    "line_position_perpendicular = 400\n",
    "# Frame info can be automatically extracted from the video file\n",
    "# video = cv2.VideoCapture('video.mp4')\n",
    "# frame_width = int(video.get(cv2.CAP_PROP_FRAME_WIDTH))\n",
    "# frame_height = int(video.get(cv2.CAP_PROP_FRAME_HEIGHT))\n",
    "frame_width = 640   # For drawing the line\n",
    "frame_height = 384  # For drawing the line\n",
    "\n",
    "START_POINT_HORIZONTAL = (0, line_position_horizontal)\n",
    "END_POINT_HORIZONTAL = (frame_width, line_position_horizontal)\n",
    "START_POINT_PERPENDICULAR = (line_position_perpendicular, 0)\n",
    "END_POINT_PERPENDICULAR = (line_position_perpendicular, frame_height)"
   ]
  },
  {
   "cell_type": "markdown",
   "metadata": {},
   "source": [
    "### Helper Functions"
   ]
  },
  {
   "cell_type": "code",
   "execution_count": 3,
   "metadata": {},
   "outputs": [],
   "source": [
    "def initialize_video_writer(export_path: str, frame_width: int, frame_height: int) -> cv2.VideoWriter:\n",
    "    \"\"\"\n",
    "    Initialize the video writer.\n",
    "    \"\"\"\n",
    "    fourcc = cv2.VideoWriter_fourcc(*'mp4v')\n",
    "    frame_rate = 30  # Assuming 30 FPS for the video\n",
    "    return cv2.VideoWriter(export_path, fourcc, frame_rate, (frame_width, frame_height))\n",
    "\n",
    "def update_car_count_and_record_state(track_id: int, direction: str, car_counts: dict, already_counted: dict, current_time: datetime, state_changes: list):\n",
    "    \"\"\"\n",
    "    Update the car count for the specified direction if the car hasn't been counted in that direction yet and record the state change.\n",
    "    \"\"\"\n",
    "    if track_id not in already_counted or already_counted[track_id] != direction:\n",
    "        car_counts[direction] += 1\n",
    "        already_counted[track_id] = direction\n",
    "        # Record the state change with a precise timestamp\n",
    "        state_changes.append({'car_id': track_id, 'timestamp': current_time.strftime(\"%Y-%m-%d %H:%M:%S.%f\"), 'state': direction})"
   ]
  },
  {
   "cell_type": "markdown",
   "metadata": {},
   "source": [
    "## Car Tracking and Unique Identification Algorithm"
   ]
  },
  {
   "cell_type": "code",
   "execution_count": 4,
   "metadata": {},
   "outputs": [],
   "source": [
    "def inference(model: YOLO, video_path: str, export_path: str, device: str = 'cpu', imgsz=(348,640), save: bool = True) -> List[Dict]:\n",
    "    \"\"\"\n",
    "    Run inference on the video and export the annotated video. Returns the state changes.\n",
    "    \"\"\"\n",
    "    cap = cv2.VideoCapture(video_path)\n",
    "    # Ensure the frame dimensions are integers\n",
    "    target_height, target_width = imgsz\n",
    "    out = initialize_video_writer(export_path, target_width, target_height)\n",
    "    \n",
    "    # Initialize simulation variables\n",
    "    start_time = datetime.strptime(\"19.02.2024 13:50:00\", \"%d.%m.%Y %H:%M:%S\")  # Simulated start time\n",
    "    frame_rate = 30  # Assuming 30 FPS for the video\n",
    "    time_per_frame = timedelta(seconds=1/frame_rate)\n",
    "    current_time = start_time\n",
    "\n",
    "    # Initialize tracking variables\n",
    "    car_positions = {}\n",
    "    car_counts = {'UP': 0, 'DOWN': 0, 'LEFT': 0, 'RIGHT': 0}\n",
    "    already_counted = {}    # Tracks whether a car has been counted to prevent double counting\n",
    "    state_changes = []  # To record state changes with timestamps\n",
    "\n",
    "    while cap.isOpened():\n",
    "        success, frame = cap.read()\n",
    "        if not success:\n",
    "            break\n",
    "        # resize frame to the specified size\n",
    "        frame = cv2.resize(frame, (target_width, target_height))\n",
    "\n",
    "        # Draw the horizontal and perpendicular lines\n",
    "        cv2.line(frame, START_POINT_HORIZONTAL, END_POINT_HORIZONTAL, (0, 255, 0), 2)\n",
    "        cv2.line(frame, START_POINT_PERPENDICULAR, END_POINT_PERPENDICULAR, (255, 0, 0), 2)\n",
    "\n",
    "        # Run YOLOv8 tracking on the frame\n",
    "        results = model.track(frame, classes=[2, 7], persist=True, device=device, imgsz=imgsz, conf=0.1, iou=0.5, tracker=\"bytetrack.yaml\")   # Focusing on cars (class 2) and trucks (class 7)\n",
    "\n",
    "        # Get the boxes and track IDs\n",
    "        boxes = results[0].boxes.xywh.cpu()\n",
    "        if results[0].boxes.id is not None:\n",
    "            track_ids = results[0].boxes.id.int().cpu().tolist()\n",
    "\n",
    "            for box, track_id in zip(boxes, track_ids):\n",
    "                x, y, w, h = box\n",
    "                center = (int(x), int(y))\n",
    "                bbox_color = (255, 0, 0)  # Default color\n",
    "\n",
    "                # Determine if the car has crossed the lines and update counts\n",
    "                if track_id in car_positions:\n",
    "                    prev_center = car_positions[track_id]\n",
    "                    # Horizontal line crossing logic\n",
    "                    if prev_center[1] < line_position_horizontal <= center[1]:\n",
    "                        update_car_count_and_record_state(track_id, 'DOWN', car_counts, already_counted, current_time, state_changes)\n",
    "                        bbox_color = (0, 255, 0)\n",
    "                    elif prev_center[1] > line_position_horizontal >= center[1]:\n",
    "                        update_car_count_and_record_state(track_id, 'UP', car_counts, already_counted, current_time, state_changes)\n",
    "                        bbox_color = (0, 255, 0)\n",
    "                    # Perpendicular line crossing logic\n",
    "                    if prev_center[0] < line_position_perpendicular <= center[0]:\n",
    "                        update_car_count_and_record_state(track_id, 'RIGHT', car_counts, already_counted, current_time, state_changes)\n",
    "                        bbox_color = (255, 0, 0)\n",
    "                    elif prev_center[0] > line_position_perpendicular >= center[0]:\n",
    "                        update_car_count_and_record_state(track_id, 'LEFT', car_counts, already_counted, current_time, state_changes)\n",
    "                        bbox_color = (255, 0, 0)\n",
    "\n",
    "                # Update the car's current position\n",
    "                car_positions[track_id] = center\n",
    "\n",
    "                # Draw bounding box and track ID\n",
    "                cv2.rectangle(frame, (int(x - w / 2), int(y - h / 2)), (int(x + w / 2), int(y + h / 2)), bbox_color, 2)\n",
    "                cv2.putText(frame, f\"ID: {track_id}\", (int(x - w / 2), int(y - h / 2) - 10), cv2.FONT_HERSHEY_SIMPLEX, 0.5, bbox_color, 2)\n",
    "\n",
    "        # Display counts and time on the video\n",
    "        cv2.putText(frame, f\"Up: {car_counts['UP']} Down: {car_counts['DOWN']}\", (10, 30), cv2.FONT_HERSHEY_SIMPLEX, 1, (255, 255, 255), 2)\n",
    "        cv2.putText(frame, f\"Left: {car_counts['LEFT']} Right: {car_counts['RIGHT']}\", (10, 60), cv2.FONT_HERSHEY_SIMPLEX, 1, (255, 255, 255), 2)\n",
    "        cv2.putText(frame, current_time.strftime(\"%Y-%m-%d %H:%M:%S.%f\")[:-3], (10, frame_height - 10), cv2.FONT_HERSHEY_SIMPLEX, 1, (255, 255, 255), 2)\n",
    "\n",
    "        # Increment the simulated time\n",
    "        current_time += time_per_frame\n",
    "\n",
    "        # Write the frame with annotations to the output video\n",
    "        if save:\n",
    "            out.write(frame)\n",
    "\n",
    "    # Release the video capture and writer\n",
    "    cap.release()\n",
    "    out.release()\n",
    "\n",
    "    return state_changes"
   ]
  },
  {
   "cell_type": "markdown",
   "metadata": {},
   "source": [
    "Get inference from the model and save annotated video."
   ]
  },
  {
   "cell_type": "code",
   "execution_count": null,
   "metadata": {},
   "outputs": [],
   "source": [
    "video_path = 'video2.MOV'\n",
    "export_path = 'success.mp4'\n",
    "device = 'cuda:0'\n",
    "imgsz = (384,640)\n",
    "\n",
    "# Run inference algorithm and get the car data to analyze later\n",
    "model = YOLO('yolov8m.pt')\n",
    "state_changes = inference(model, video_path=video_path, export_path=export_path, device=device, imgsz=imgsz, save=True)"
   ]
  },
  {
   "cell_type": "markdown",
   "metadata": {},
   "source": [
    "### Export the model to ONNX format"
   ]
  },
  {
   "cell_type": "code",
   "execution_count": 6,
   "metadata": {},
   "outputs": [
    {
     "name": "stdout",
     "output_type": "stream",
     "text": [
      "Ultralytics YOLOv8.1.15 🚀 Python-3.10.13 torch-2.1.2 CPU (Intel Core(TM) i7-7700HQ 2.80GHz)\n",
      "\n",
      "\u001b[34m\u001b[1mPyTorch:\u001b[0m starting from 'yolov8m.pt' with input shape (1, 3, 384, 640) BCHW and output shape(s) (1, 84, 5040) (49.7 MB)\n",
      "\n",
      "\u001b[34m\u001b[1mONNX:\u001b[0m starting export with onnx 1.15.0 opset 17...\n",
      "\u001b[34m\u001b[1mONNX:\u001b[0m simplifying with onnxsim 0.4.35...\n",
      "\u001b[34m\u001b[1mONNX:\u001b[0m export success ✅ 8.9s, saved as 'yolov8m.onnx' (98.9 MB)\n",
      "\n",
      "Export complete (12.7s)\n",
      "Results saved to \u001b[1m/home/seekndestroy/talha/github/car-tracking-counting\u001b[0m\n",
      "Predict:         yolo predict task=detect model=yolov8m.onnx imgsz=384,640  \n",
      "Validate:        yolo val task=detect model=yolov8m.onnx imgsz=384,640 data=coco.yaml  WARNING ⚠️ non-PyTorch val requires square images, 'imgsz=[384, 640]' will not work. Use export 'imgsz=640' if val is required.\n",
      "Visualize:       https://netron.app\n"
     ]
    },
    {
     "data": {
      "text/plain": [
       "'yolov8m.onnx'"
      ]
     },
     "execution_count": 6,
     "metadata": {},
     "output_type": "execute_result"
    }
   ],
   "source": [
    "format = \"onnx\"\n",
    "simply = True\n",
    "imgsz = (384, 640)\n",
    "\n",
    "model.export(format=format, simplify=simply, imgsz=imgsz)"
   ]
  },
  {
   "cell_type": "markdown",
   "metadata": {},
   "source": [
    "## Performance Comparison between ONNX and PyTorch"
   ]
  },
  {
   "cell_type": "code",
   "execution_count": null,
   "metadata": {},
   "outputs": [],
   "source": [
    "import time\n",
    "import onnxruntime\n",
    "\n",
    "# Set the onnxruntime session\n",
    "sess_options = onnxruntime.SessionOptions()\n",
    "sess_options.graph_optimization_level = onnxruntime.GraphOptimizationLevel.ORT_ENABLE_ALL\n",
    "sess_options.execution_mode = onnxruntime.ExecutionMode.ORT_SEQUENTIAL\n",
    "session = onnxruntime.InferenceSession(\"yolov8m.onnx\", sess_options, providers=['CPUExecutionProvider'])\n",
    "\n",
    "# Load the ONNX and PyTorch models\n",
    "onnx_model = YOLO('yolov8m.onnx')\n",
    "\n",
    "# Set the video path\n",
    "video_path = \"video2.MOV\"\n",
    "export_path = \"success.mp4\"\n",
    "\n",
    "# Set the device and image size\n",
    "device = \"cpu\"\n",
    "imgsz = (384, 640)\n",
    "save = False\n",
    "\n",
    "# Measure inference time for the ONNX model\n",
    "start_time_onnx = time.time()\n",
    "inference(onnx_model, video_path=video_path, export_path=export_path, device=device, imgsz=imgsz, save=save)\n",
    "end_time_onnx = time.time()"
   ]
  },
  {
   "cell_type": "code",
   "execution_count": null,
   "metadata": {},
   "outputs": [],
   "source": [
    "# Repeat the process for the PyTorch model\n",
    "pytorch_model = YOLO('yolov8m.pt')\n",
    "\n",
    "export_path = \"success_pytorch.mp4\"\n",
    "\n",
    "start_time_pytorch = time.time()\n",
    "inference(pytorch_model, video_path=video_path, export_path=export_path, device=device, imgsz=imgsz, save=save)\n",
    "end_time_pytorch = time.time()"
   ]
  },
  {
   "cell_type": "code",
   "execution_count": null,
   "metadata": {},
   "outputs": [],
   "source": [
    "# Calculate and compare inference times\n",
    "inference_time_onnx = end_time_onnx - start_time_onnx\n",
    "inference_time_pytorch = end_time_pytorch - start_time_pytorch\n",
    "print(f\"ONNX Inference Time: {inference_time_onnx} seconds\")\n",
    "print(f\"PyTorch Inference Time: {inference_time_pytorch} seconds\")"
   ]
  },
  {
   "cell_type": "markdown",
   "metadata": {},
   "source": [
    "## Save the Data to CSV and Visualize the Results"
   ]
  },
  {
   "cell_type": "code",
   "execution_count": 19,
   "metadata": {},
   "outputs": [],
   "source": [
    "import pandas as pd\n",
    "import matplotlib.pyplot as plt\n",
    "import matplotlib.dates as mdates\n",
    "\n",
    "# Save the data to CSV\n",
    "df = pd.DataFrame(state_changes)\n",
    "df.to_csv('car_data.csv', index=False)"
   ]
  },
  {
   "cell_type": "code",
   "execution_count": 20,
   "metadata": {},
   "outputs": [
    {
     "data": {
      "text/html": [
       "<div>\n",
       "<style scoped>\n",
       "    .dataframe tbody tr th:only-of-type {\n",
       "        vertical-align: middle;\n",
       "    }\n",
       "\n",
       "    .dataframe tbody tr th {\n",
       "        vertical-align: top;\n",
       "    }\n",
       "\n",
       "    .dataframe thead th {\n",
       "        text-align: right;\n",
       "    }\n",
       "</style>\n",
       "<table border=\"1\" class=\"dataframe\">\n",
       "  <thead>\n",
       "    <tr style=\"text-align: right;\">\n",
       "      <th></th>\n",
       "      <th>car_id</th>\n",
       "      <th>timestamp</th>\n",
       "      <th>state</th>\n",
       "    </tr>\n",
       "  </thead>\n",
       "  <tbody>\n",
       "    <tr>\n",
       "      <th>0</th>\n",
       "      <td>4</td>\n",
       "      <td>2024-02-19 13:50:00.566661</td>\n",
       "      <td>UP</td>\n",
       "    </tr>\n",
       "    <tr>\n",
       "      <th>1</th>\n",
       "      <td>15</td>\n",
       "      <td>2024-02-19 13:50:01.833315</td>\n",
       "      <td>UP</td>\n",
       "    </tr>\n",
       "    <tr>\n",
       "      <th>2</th>\n",
       "      <td>16</td>\n",
       "      <td>2024-02-19 13:50:02.199978</td>\n",
       "      <td>LEFT</td>\n",
       "    </tr>\n",
       "    <tr>\n",
       "      <th>3</th>\n",
       "      <td>15</td>\n",
       "      <td>2024-02-19 13:50:02.633307</td>\n",
       "      <td>LEFT</td>\n",
       "    </tr>\n",
       "    <tr>\n",
       "      <th>4</th>\n",
       "      <td>14</td>\n",
       "      <td>2024-02-19 13:50:03.666630</td>\n",
       "      <td>DOWN</td>\n",
       "    </tr>\n",
       "  </tbody>\n",
       "</table>\n",
       "</div>"
      ],
      "text/plain": [
       "   car_id                   timestamp state\n",
       "0       4  2024-02-19 13:50:00.566661    UP\n",
       "1      15  2024-02-19 13:50:01.833315    UP\n",
       "2      16  2024-02-19 13:50:02.199978  LEFT\n",
       "3      15  2024-02-19 13:50:02.633307  LEFT\n",
       "4      14  2024-02-19 13:50:03.666630  DOWN"
      ]
     },
     "execution_count": 20,
     "metadata": {},
     "output_type": "execute_result"
    }
   ],
   "source": [
    "df[:5]"
   ]
  },
  {
   "cell_type": "code",
   "execution_count": 21,
   "metadata": {},
   "outputs": [
    {
     "data": {
      "image/png": "[encoded data removed]",
      "text/plain": [
       "<Figure size 1000x600 with 1 Axes>"
      ]
     },
     "metadata": {},
     "output_type": "display_data"
    },
    {
     "data": {
      "image/png": "[encoded data removed]",
      "text/plain": [
       "<Figure size 800x500 with 1 Axes>"
      ]
     },
     "metadata": {},
     "output_type": "display_data"
    }
   ],
   "source": [
    "# Load the data\n",
    "df = pd.read_csv('car_data.csv')\n",
    "\n",
    "# Convert 'timestamp' to datetime format for easier manipulation\n",
    "df['timestamp'] = pd.to_datetime(df['timestamp'])\n",
    "\n",
    "# Visualizing the number of cars passing in each direction over time\n",
    "plt.figure(figsize=(10, 6))\n",
    "\n",
    "# Ensure the plot displays time in seconds\n",
    "locator = mdates.SecondLocator()\n",
    "formatter = mdates.DateFormatter('%H:%M:%S')\n",
    "\n",
    "for direction in df['state'].unique():\n",
    "    # Filter data for each direction\n",
    "    direction_data = df[df['state'] == direction]\n",
    "    \n",
    "    # Plot each timestamp directly without resampling\n",
    "    plt.scatter(direction_data['timestamp'], direction_data['state'].apply(lambda x: direction), label=direction, alpha=0.6)\n",
    "\n",
    "plt.gca().xaxis.set_major_locator(locator)\n",
    "plt.gca().xaxis.set_major_formatter(formatter)\n",
    "\n",
    "plt.title('Number of Cars Passing in Each Direction Over Time')\n",
    "plt.xlabel('Time')\n",
    "plt.ylabel('Direction')\n",
    "plt.legend()\n",
    "plt.xticks(rotation=45)\n",
    "plt.tight_layout()\n",
    "plt.show()\n",
    "\n",
    "\n",
    "# Visualizing the total count of cars in each direction\n",
    "plt.figure(figsize=(8, 5))\n",
    "df['state'].value_counts().plot(kind='bar')\n",
    "plt.title('Total Count of Cars in Each Direction')\n",
    "plt.xlabel('Direction')\n",
    "plt.ylabel('Count')\n",
    "plt.xticks(rotation=0)\n",
    "plt.show()\n"
   ]
  }
 ],
 "metadata": {
  "kernelspec": {
   "display_name": "safevideo",
   "language": "python",
   "name": "python3"
  },
  "language_info": {
   "codemirror_mode": {
    "name": "ipython",
    "version": 3
   },
   "file_extension": ".py",
   "mimetype": "text/x-python",
   "name": "python",
   "nbconvert_exporter": "python",
   "pygments_lexer": "ipython3",
   "version": "3.10.13"
  }
 },
 "nbformat": 4,
 "nbformat_minor": 2
}
